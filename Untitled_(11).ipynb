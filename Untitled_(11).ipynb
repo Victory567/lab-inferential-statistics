{
  "cells": [
    {
      "cell_type": "markdown",
      "metadata": {
        "id": "view-in-github",
        "colab_type": "text"
      },
      "source": [
        "<a href=\"https://colab.research.google.com/github/Victory567/lab-inferential-statistics/blob/master/Untitled_(11).ipynb\" target=\"_parent\"><img src=\"https://colab.research.google.com/assets/colab-badge.svg\" alt=\"Open In Colab\"/></a>"
      ]
    },
    {
      "cell_type": "code",
      "execution_count": null,
      "id": "4e3e1d8b",
      "metadata": {
        "id": "4e3e1d8b"
      },
      "outputs": [],
      "source": [
        "#Hypothesis Testing\n",
        "#Hypothesis testing is a way to test the results of an experiment and see if you have meaningful results.\n",
        "\n",
        "#Null hypothesis: Denoted with H0, a null hypothesis is an assumption that the population average is identical to a specific value. \n",
        "#The typical notation is μ = μ0, where μ refers to the population mean and μ0 refers to the hypothesized value.\n",
        "\n",
        "#Alternate hypothesis: An alternative hypothesis is the opposite of the null hypothesis. \n",
        "#We compare this hypothesis with the null hypothesis to decide whether or not we reject the null hypothesis. \n",
        "#We denote the alternative hypothesis with H1 or Ha.\n",
        "\n",
        "#Significance Level: Indicates whether we are confident enough to reject the null hypothesis.\n",
        "\n",
        "#Test Statistic: Once we determine the type of hypothesis test and that our assumptions have been met, \n",
        "#we use our data to decide whether to reject or not reject the null hypothesis. (z-test, t-test)\n",
        "\n",
        "#p-value: is a measure used to help us reject or not the null hypothesis"
      ]
    },
    {
      "cell_type": "code",
      "execution_count": null,
      "id": "ee19516f",
      "metadata": {
        "id": "ee19516f"
      },
      "outputs": [],
      "source": [
        "#Hypothesis testing is a formal procedure for investigating our ideas about the world using statistics. \n",
        "#It is most often used by scientists to test specific predictions, called hypotheses, that arise from theories.\n",
        "\n",
        "#There are 5 main steps in hypothesis testing:\n",
        "\n",
        "#State your research hypothesis as a null hypothesis and alternate hypothesis (Ho) and (Ha or H1).\n",
        "#Collect data in a way designed to test the hypothesis.\n",
        "#Perform an appropriate statistical test.\n",
        "#Decide whether to reject or fail to reject your null hypothesis.\n",
        "#Present the findings in your results and discussion section"
      ]
    },
    {
      "cell_type": "code",
      "execution_count": null,
      "id": "5bbb7f7e",
      "metadata": {
        "id": "5bbb7f7e"
      },
      "outputs": [],
      "source": [
        "#Level of significance: This defines the rejection region/critical region, it's the probability of making the wrong decision when the null hypothesis is true. Usually it is 0.05. It is defined by greek letter 'alpha'. In the medical field this would go down to 0.01.\n",
        "\n",
        "#Calculate the test statistic based on the given information.\n",
        "\n",
        "#Check the table to determine the critical value.\n",
        "#For z-test you have fixed values according to Confidence Level.\n",
        "#For t-test you have to calculate according to the degrees of freedom (df), which is the sample_size - 1.\n",
        "\n",
        "#Make conclusions:\n",
        "\n",
        "#If the test statistic falls in the critical region, then we reject the Null Hypothesis\n",
        "#If the test statistic falls in the region between the critical region, then we fail to reject the Null Hypothesis."
      ]
    },
    {
      "cell_type": "code",
      "execution_count": null,
      "id": "ba8cc482",
      "metadata": {
        "id": "ba8cc482",
        "outputId": "d574feaf-0bde-45ff-a21c-ad2c89b12062"
      },
      "outputs": [
        {
          "data": {
            "text/plain": [
              "-4.761671352363072"
            ]
          },
          "execution_count": 8,
          "metadata": {},
          "output_type": "execute_result"
        }
      ],
      "source": [
        "import math\n",
        "\n",
        "sample_mean = 100\n",
        "pop_mean = 120\n",
        "pop_std = 21.21\n",
        "n = 25.5\n",
        "\n",
        "statistic = (sample_mean - pop_mean)/(pop_std/math.sqrt(n))\n",
        "statistic"
      ]
    }
  ],
  "metadata": {
    "kernelspec": {
      "display_name": "Python 3 (ipykernel)",
      "language": "python",
      "name": "python3"
    },
    "language_info": {
      "codemirror_mode": {
        "name": "ipython",
        "version": 3
      },
      "file_extension": ".py",
      "mimetype": "text/x-python",
      "name": "python",
      "nbconvert_exporter": "python",
      "pygments_lexer": "ipython3",
      "version": "3.9.12"
    },
    "colab": {
      "provenance": [],
      "include_colab_link": true
    }
  },
  "nbformat": 4,
  "nbformat_minor": 5
}